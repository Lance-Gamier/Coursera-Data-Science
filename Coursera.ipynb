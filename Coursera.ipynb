{
  "metadata": {
    "language_info": {
      "codemirror_mode": {
        "name": "python",
        "version": 3
      },
      "file_extension": ".py",
      "mimetype": "text/x-python",
      "name": "python",
      "nbconvert_exporter": "python",
      "pygments_lexer": "ipython3",
      "version": "3.8"
    },
    "kernelspec": {
      "name": "python",
      "display_name": "Python (Pyodide)",
      "language": "python"
    }
  },
  "nbformat_minor": 4,
  "nbformat": 4,
  "cells": [
    {
      "cell_type": "markdown",
      "source": "# Coursera Jupyter Notebook Sample",
      "metadata": {}
    },
    {
      "cell_type": "markdown",
      "source": "Here is an example of a Markdown Cell created in Jupyter Notebook ",
      "metadata": {}
    },
    {
      "cell_type": "markdown",
      "source": "## Data Science Languages that are used in Data Science:\n\n### Most Common:\n- Python\n- R\n- SQL\n### Other Commonly Used: \n- SAS\n- C++\n- C#\n- Javascript\n- Java\n- Scala\n- Julia\n- Ruby\n- Perl",
      "metadata": {}
    },
    {
      "cell_type": "markdown",
      "source": "## Data Science Libraries:\n\n### Python\n- Pandas\n- Matplotlib\n- Seaborn\n- ScikitLearn\n- Tensorflow\n- Keras\n- Theano\n\n### R\n- dyplyr\n- ggplot2\n- tidyr\n- CARET\n- shiny",
      "metadata": {}
    },
    {
      "cell_type": "markdown",
      "source": "## Data Science Tools:\n\n- Jupyter\n- RStudio\n- Tableau\n- PowerBI\n- Amazon Web Service\n- Google Cloud Platform\n- Microsoft Azure\n- Apache Spark\n- Apache Hadoop",
      "metadata": {}
    },
    {
      "cell_type": "code",
      "source": "17 + 9",
      "metadata": {
        "trusted": true
      },
      "execution_count": 5,
      "outputs": [
        {
          "execution_count": 5,
          "output_type": "execute_result",
          "data": {
            "text/plain": "26"
          },
          "metadata": {}
        }
      ]
    },
    {
      "cell_type": "code",
      "source": "6 + 8 * 14",
      "metadata": {
        "trusted": true
      },
      "execution_count": 6,
      "outputs": [
        {
          "execution_count": 6,
          "output_type": "execute_result",
          "data": {
            "text/plain": "118"
          },
          "metadata": {}
        }
      ]
    },
    {
      "cell_type": "code",
      "source": "minutes = 30\nhours = minutes / 60\nprint(hours)",
      "metadata": {
        "trusted": true
      },
      "execution_count": 1,
      "outputs": [
        {
          "name": "stdout",
          "text": "0.5\n",
          "output_type": "stream"
        }
      ]
    },
    {
      "cell_type": "markdown",
      "source": "## Objectives:\n- Learn the basics of Jupyter\n- Learn how to use Markdown in Jupyter\n- Execute Python Code in Jupyter\n- Perform Arithmetic Operations in Python",
      "metadata": {}
    },
    {
      "cell_type": "markdown",
      "source": "## Author Name: Lance Gamier",
      "metadata": {
        "jp-MarkdownHeadingCollapsed": true,
        "tags": []
      }
    }
  ]
}